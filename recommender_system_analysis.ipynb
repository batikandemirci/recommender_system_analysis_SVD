{
  "nbformat": 4,
  "nbformat_minor": 0,
  "metadata": {
    "colab": {
      "provenance": []
    },
    "kernelspec": {
      "name": "python3",
      "display_name": "Python 3"
    },
    "language_info": {
      "name": "python"
    }
  },
  "cells": [
    {
      "cell_type": "markdown",
      "source": [
        "**Movie Recommendation System with SVD (Singular Value Decomposition)**"
      ],
      "metadata": {
        "id": "XjdsNO1Ow9nh"
      }
    },
    {
      "cell_type": "markdown",
      "source": [
        "**Overview**\n",
        "\n",
        "This project demonstrates a movie recommendation system built using Singular Value Decomposition (SVD) from the Surprise library. The system is trained on the MovieLens dataset, which consists of user ratings for various movies. The goal is to provide personalized movie recommendations to users based on their past ratings."
      ],
      "metadata": {
        "id": "QYP-QWPtwa1S"
      }
    },
    {
      "cell_type": "markdown",
      "source": [
        "**Steps and Code Implementation**"
      ],
      "metadata": {
        "id": "C9fBXsj8wim6"
      }
    },
    {
      "cell_type": "markdown",
      "source": [
        "# 1. Import Libraries"
      ],
      "metadata": {
        "id": "5N52B9LywxmR"
      }
    },
    {
      "cell_type": "code",
      "source": [
        "import pandas as pd\n",
        "import numpy as np\n",
        "import matplotlib.pyplot as plt\n",
        "import seaborn as sns\n",
        "from matplotlib.colors import LinearSegmentedColormap\n",
        "from surprise import SVD, Reader, Dataset\n",
        "from surprise.model_selection import train_test_split\n",
        "import ast\n",
        "import warnings\n",
        "\n",
        "palette = ['#8abf87', '#ffb6b9', '#ffe156', '#6a74b9', '#ff9a8b', '#d8e2dc', '#f0a6ca']\n",
        "sns.set_theme(context='notebook', palette=palette, style='white')\n",
        "\n",
        "warnings.simplefilter(action='ignore', category=FutureWarning)\n"
      ],
      "metadata": {
        "id": "tplDoYR5xCS6"
      },
      "execution_count": null,
      "outputs": []
    },
    {
      "cell_type": "markdown",
      "source": [
        "# 2. Load and Merge Datasets"
      ],
      "metadata": {
        "id": "w0p4G-CrxCAL"
      }
    },
    {
      "cell_type": "code",
      "source": [
        "movies_metadata_path = 'movies_metadata.csv'\n",
        "ratings_small_path = 'ratings_small.csv'\n",
        "\n",
        "movies = pd.read_csv(movies_metadata_path, low_memory=False)\n",
        "ratings = pd.read_csv(ratings_small_path)\n",
        "\n",
        "movies['id'] = pd.to_numeric(movies['id'], errors='coerce')\n",
        "movies.dropna(subset=['id'], inplace=True)\n",
        "\n",
        "merged_data = pd.merge(ratings, movies, left_on='movieId', right_on='id', how='inner')\n",
        "\n",
        "merged_data = merged_data[['userId', 'movieId', 'rating', 'genres', 'timestamp', 'budget', 'imdb_id',\n",
        "                           'original_language', 'popularity', 'revenue', 'runtime', 'title',\n",
        "                           'vote_average', 'vote_count', 'belongs_to_collection', 'release_date']]"
      ],
      "metadata": {
        "id": "KDggbYywxWpa"
      },
      "execution_count": null,
      "outputs": []
    },
    {
      "cell_type": "markdown",
      "source": [
        "# 3. Exploratory Data Analysis (EDA)"
      ],
      "metadata": {
        "id": "7UVb9ffpxgLy"
      }
    },
    {
      "cell_type": "markdown",
      "source": [
        "**Distribution of Movie Genres**"
      ],
      "metadata": {
        "id": "COL44-h0xktX"
      }
    },
    {
      "cell_type": "code",
      "source": [
        "merged_data['genres'] = merged_data['genres'].fillna('[]')\n",
        "merged_data['genres'] = merged_data['genres'].apply(ast.literal_eval)\n",
        "merged_data['genre_names'] = merged_data['genres'].apply(lambda x: [d['name'] for d in x])\n",
        "\n",
        "genre_dummies = merged_data['genre_names'].str.join('|').str.get_dummies()\n",
        "merged_data = pd.concat([merged_data, genre_dummies], axis=1)\n",
        "merged_data.drop(['genres', 'genre_names'], axis=1, inplace=True)\n",
        "\n",
        "genre_counts = genre_dummies.sum().sort_values(ascending=False)\n",
        "plt.figure(figsize=(10, 6))\n",
        "sns.barplot(x=genre_counts.values, y=genre_counts.index, palette=palette)\n",
        "plt.title('Distribution of Movie Genres')\n",
        "plt.xlabel('Number of Movies')\n",
        "plt.ylabel('Genres')\n",
        "plt.show()"
      ],
      "metadata": {
        "id": "Jx0C1tdDxnhT"
      },
      "execution_count": null,
      "outputs": []
    },
    {
      "cell_type": "markdown",
      "source": [
        "**Distribution of User Ratings**"
      ],
      "metadata": {
        "id": "UtfPmMnqxsu3"
      }
    },
    {
      "cell_type": "code",
      "source": [
        "plt.figure(figsize=(10, 6))\n",
        "sns.histplot(merged_data['rating'], bins=10, kde=False, color=palette[0])\n",
        "plt.title('Distribution of User Ratings')\n",
        "plt.xlabel('Rating')\n",
        "plt.ylabel('Count')\n",
        "plt.show()"
      ],
      "metadata": {
        "id": "xqrVXHOkxvoJ"
      },
      "execution_count": null,
      "outputs": []
    },
    {
      "cell_type": "markdown",
      "source": [
        "**Correlation Heatmap of Numeric Features**"
      ],
      "metadata": {
        "id": "lSfsSkJ6xybs"
      }
    },
    {
      "cell_type": "code",
      "source": [
        "numeric_features = ['budget', 'popularity', 'revenue', 'runtime', 'vote_average', 'vote_count']\n",
        "correlation_matrix = merged_data[numeric_features].corr()\n",
        "\n",
        "plt.figure(figsize=(10, 8))\n",
        "sns.heatmap(correlation_matrix, annot=True, cmap='coolwarm', vmin=-1, vmax=1)\n",
        "plt.title('Correlation Heatmap of Numeric Features')\n",
        "plt.show()"
      ],
      "metadata": {
        "id": "h71y5W5kx0lA"
      },
      "execution_count": null,
      "outputs": []
    },
    {
      "cell_type": "markdown",
      "source": [
        "**User Rating Behavior**"
      ],
      "metadata": {
        "id": "Yyv60iMQx4SN"
      }
    },
    {
      "cell_type": "code",
      "source": [
        "user_ratings = merged_data.groupby('userId')['rating'].agg(['mean', 'count'])\n",
        "\n",
        "plt.figure(figsize=(10, 6))\n",
        "sns.scatterplot(x=user_ratings['count'], y=user_ratings['mean'], alpha=0.7)\n",
        "plt.title('User Rating Behavior')\n",
        "plt.xlabel('Number of Ratings')\n",
        "plt.ylabel('Average Rating')\n",
        "plt.grid(True)\n",
        "plt.show()"
      ],
      "metadata": {
        "id": "QdgnRLXjx6wx"
      },
      "execution_count": null,
      "outputs": []
    },
    {
      "cell_type": "markdown",
      "source": [
        "# 4. Data Preparation for SVD Model"
      ],
      "metadata": {
        "id": "F49JUoOhx9sK"
      }
    },
    {
      "cell_type": "code",
      "source": [
        "svd_data = merged_data[['userId', 'movieId', 'rating']]\n",
        "\n",
        "reader = Reader(rating_scale=(0, 5))\n",
        "\n",
        "data = Dataset.load_from_df(svd_data[['userId', 'movieId', 'rating']], reader)\n",
        "\n",
        "trainset, testset = train_test_split(data, test_size=0.2, random_state=42)"
      ],
      "metadata": {
        "id": "mwg4YU6YyARt"
      },
      "execution_count": null,
      "outputs": []
    },
    {
      "cell_type": "markdown",
      "source": [
        "# 5. Build the SVD Model"
      ],
      "metadata": {
        "id": "MtgZwSFVyGnl"
      }
    },
    {
      "cell_type": "code",
      "source": [
        "svd = SVD()\n",
        "\n",
        "svd.fit(trainset)\n",
        "\n",
        "predictions = svd.test(testset)\n",
        "\n",
        "from surprise import accuracy\n",
        "rmse = accuracy.rmse(predictions)\n",
        "print(f\"Test RMSE: {rmse}\")"
      ],
      "metadata": {
        "id": "qTyg0RMCyHhU"
      },
      "execution_count": null,
      "outputs": []
    },
    {
      "cell_type": "markdown",
      "source": [
        "# 6. Generate Top-N Recommendations"
      ],
      "metadata": {
        "id": "Wy_rLDawyKjw"
      }
    },
    {
      "cell_type": "code",
      "source": [
        "def get_top_n(predictions, n=10):\n",
        "    top_n = {}\n",
        "    for uid, iid, true_r, est, _ in predictions:\n",
        "        if uid not in top_n:\n",
        "            top_n[uid] = []\n",
        "        top_n[uid].append((iid, est))\n",
        "\n",
        "    for uid, user_ratings in top_n.items():\n",
        "        user_ratings.sort(key=lambda x: x[1], reverse=True)\n",
        "        top_n[uid] = user_ratings[:n]\n",
        "\n",
        "    return top_n\n",
        "\n",
        "top_n = get_top_n(predictions, n=10)\n",
        "\n",
        "user_id = 3\n",
        "recommended_movie_ids = [iid for (iid, _) in top_n[user_id]]\n",
        "\n",
        "recommended_movies = movies[movies['id'].isin(recommended_movie_ids)][['title']]\n",
        "print(f\"Top recommended movies for user {user_id}:\")\n",
        "print(recommended_movies)"
      ],
      "metadata": {
        "id": "I6S758ShyM_0"
      },
      "execution_count": null,
      "outputs": []
    }
  ]
}